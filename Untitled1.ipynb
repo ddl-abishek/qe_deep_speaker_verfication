{
 "cells": [
  {
   "cell_type": "code",
   "execution_count": 1,
   "id": "3051d8b5-7cb8-4d1b-a81f-74fb9e893100",
   "metadata": {},
   "outputs": [
    {
     "name": "stderr",
     "output_type": "stream",
     "text": [
      "/opt/conda/lib/python3.8/site-packages/ray/autoscaler/_private/cli_logger.py:57: FutureWarning: Not all Ray CLI dependencies were found. In Ray 1.4+, the Ray CLI, autoscaler, and dashboard will only be usable via `pip install 'ray[default]'`. Please update your install command.\n",
      "  warnings.warn(\n"
     ]
    }
   ],
   "source": [
    "from ray.util.sgd.torch import TorchTrainer, TrainingOperator\n"
   ]
  },
  {
   "cell_type": "code",
   "execution_count": 2,
   "id": "13edc882-bef1-4811-984f-e17e69c974ae",
   "metadata": {},
   "outputs": [],
   "source": [
    "from ray.util.sgd import TorchTrainer"
   ]
  }
 ],
 "metadata": {
  "kernelspec": {
   "display_name": "Python 3",
   "language": "python",
   "name": "python3"
  },
  "language_info": {
   "codemirror_mode": {
    "name": "ipython",
    "version": 3
   },
   "file_extension": ".py",
   "mimetype": "text/x-python",
   "name": "python",
   "nbconvert_exporter": "python",
   "pygments_lexer": "ipython3",
   "version": "3.8.3"
  }
 },
 "nbformat": 4,
 "nbformat_minor": 5
}
