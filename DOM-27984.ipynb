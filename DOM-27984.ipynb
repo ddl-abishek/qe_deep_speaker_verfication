{
 "cells": [
  {
   "cell_type": "code",
   "execution_count": 1,
   "id": "0676e873-b2ea-40a2-b351-c857f8c9412b",
   "metadata": {},
   "outputs": [
    {
     "name": "stderr",
     "output_type": "stream",
     "text": [
      "/opt/conda/lib/python3.8/site-packages/ray/autoscaler/_private/cli_logger.py:57: FutureWarning: Not all Ray CLI dependencies were found. In Ray 1.4+, the Ray CLI, autoscaler, and dashboard will only be usable via `pip install 'ray[default]'`. Please update your install command.\n",
      "  warnings.warn(\n"
     ]
    }
   ],
   "source": [
    "import ray\n",
    "import os\n",
    "from ray.util.multiprocessing import Pool"
   ]
  },
  {
   "cell_type": "code",
   "execution_count": 2,
   "id": "79cf60bc-f848-46d2-b782-d0e4e72a8b26",
   "metadata": {},
   "outputs": [
    {
     "name": "stdout",
     "output_type": "stream",
     "text": [
      "Connecting to Ray cluster...\n"
     ]
    },
    {
     "ename": "KeyError",
     "evalue": "'RAY_HEAD_SERVICE_HOST'",
     "output_type": "error",
     "traceback": [
      "\u001b[0;31m---------------------------------------------------------------------------\u001b[0m",
      "\u001b[0;31mKeyError\u001b[0m                                  Traceback (most recent call last)",
      "\u001b[0;32m<ipython-input-2-14f00b4c9492>\u001b[0m in \u001b[0;36m<module>\u001b[0;34m\u001b[0m\n\u001b[1;32m      1\u001b[0m \u001b[0;32mif\u001b[0m \u001b[0mray\u001b[0m\u001b[0;34m.\u001b[0m\u001b[0mis_initialized\u001b[0m\u001b[0;34m(\u001b[0m\u001b[0;34m)\u001b[0m \u001b[0;34m==\u001b[0m \u001b[0;32mFalse\u001b[0m\u001b[0;34m:\u001b[0m\u001b[0;34m\u001b[0m\u001b[0;34m\u001b[0m\u001b[0m\n\u001b[1;32m      2\u001b[0m         \u001b[0mprint\u001b[0m\u001b[0;34m(\u001b[0m\u001b[0;34m\"Connecting to Ray cluster...\"\u001b[0m\u001b[0;34m)\u001b[0m\u001b[0;34m\u001b[0m\u001b[0;34m\u001b[0m\u001b[0m\n\u001b[0;32m----> 3\u001b[0;31m         \u001b[0mservice_host\u001b[0m \u001b[0;34m=\u001b[0m \u001b[0mos\u001b[0m\u001b[0;34m.\u001b[0m\u001b[0menviron\u001b[0m\u001b[0;34m[\u001b[0m\u001b[0;34m\"RAY_HEAD_SERVICE_HOST\"\u001b[0m\u001b[0;34m]\u001b[0m\u001b[0;34m\u001b[0m\u001b[0;34m\u001b[0m\u001b[0m\n\u001b[0m\u001b[1;32m      4\u001b[0m         \u001b[0mservice_port\u001b[0m \u001b[0;34m=\u001b[0m \u001b[0mos\u001b[0m\u001b[0;34m.\u001b[0m\u001b[0menviron\u001b[0m\u001b[0;34m[\u001b[0m\u001b[0;34m\"RAY_HEAD_SERVICE_PORT\"\u001b[0m\u001b[0;34m]\u001b[0m\u001b[0;34m\u001b[0m\u001b[0;34m\u001b[0m\u001b[0m\n\u001b[1;32m      5\u001b[0m         \u001b[0mray\u001b[0m\u001b[0;34m.\u001b[0m\u001b[0mutil\u001b[0m\u001b[0;34m.\u001b[0m\u001b[0mconnect\u001b[0m\u001b[0;34m(\u001b[0m\u001b[0;34mf\"{service_host}:{service_port}\"\u001b[0m\u001b[0;34m)\u001b[0m\u001b[0;34m\u001b[0m\u001b[0;34m\u001b[0m\u001b[0m\n",
      "\u001b[0;32m/opt/conda/lib/python3.8/os.py\u001b[0m in \u001b[0;36m__getitem__\u001b[0;34m(self, key)\u001b[0m\n\u001b[1;32m    673\u001b[0m         \u001b[0;32mexcept\u001b[0m \u001b[0mKeyError\u001b[0m\u001b[0;34m:\u001b[0m\u001b[0;34m\u001b[0m\u001b[0;34m\u001b[0m\u001b[0m\n\u001b[1;32m    674\u001b[0m             \u001b[0;31m# raise KeyError with the original key value\u001b[0m\u001b[0;34m\u001b[0m\u001b[0;34m\u001b[0m\u001b[0;34m\u001b[0m\u001b[0m\n\u001b[0;32m--> 675\u001b[0;31m             \u001b[0;32mraise\u001b[0m \u001b[0mKeyError\u001b[0m\u001b[0;34m(\u001b[0m\u001b[0mkey\u001b[0m\u001b[0;34m)\u001b[0m \u001b[0;32mfrom\u001b[0m \u001b[0;32mNone\u001b[0m\u001b[0;34m\u001b[0m\u001b[0;34m\u001b[0m\u001b[0m\n\u001b[0m\u001b[1;32m    676\u001b[0m         \u001b[0;32mreturn\u001b[0m \u001b[0mself\u001b[0m\u001b[0;34m.\u001b[0m\u001b[0mdecodevalue\u001b[0m\u001b[0;34m(\u001b[0m\u001b[0mvalue\u001b[0m\u001b[0;34m)\u001b[0m\u001b[0;34m\u001b[0m\u001b[0;34m\u001b[0m\u001b[0m\n\u001b[1;32m    677\u001b[0m \u001b[0;34m\u001b[0m\u001b[0m\n",
      "\u001b[0;31mKeyError\u001b[0m: 'RAY_HEAD_SERVICE_HOST'"
     ]
    }
   ],
   "source": [
    "if ray.is_initialized() == False:\n",
    "        print(\"Connecting to Ray cluster...\")\n",
    "        service_host = os.environ[\"RAY_HEAD_SERVICE_HOST\"]\n",
    "        service_port = os.environ[\"RAY_HEAD_SERVICE_PORT\"]\n",
    "        ray.util.connect(f\"{service_host}:{service_port}\")"
   ]
  },
  {
   "cell_type": "code",
   "execution_count": 3,
   "id": "23de13b5-37d0-4532-baad-e9eb90481916",
   "metadata": {},
   "outputs": [],
   "source": [
    "def f(index):\n",
    "    return index*index\n",
    "\n",
    "pool = Pool(ray_address=\"auto\")"
   ]
  },
  {
   "cell_type": "code",
   "execution_count": 4,
   "id": "c47635f9-f19a-4a96-b661-f079a4f1431c",
   "metadata": {},
   "outputs": [
    {
     "name": "stdout",
     "output_type": "stream",
     "text": [
      "0\n",
      "1\n",
      "4\n",
      "9\n",
      "16\n",
      "25\n",
      "36\n",
      "49\n",
      "64\n",
      "81\n",
      "100\n",
      "121\n",
      "144\n",
      "169\n",
      "196\n",
      "225\n",
      "256\n",
      "289\n",
      "324\n",
      "361\n",
      "400\n",
      "441\n",
      "484\n",
      "529\n",
      "576\n",
      "625\n",
      "676\n",
      "729\n",
      "784\n",
      "841\n",
      "900\n",
      "961\n",
      "1024\n",
      "1089\n",
      "1156\n",
      "1225\n",
      "1296\n",
      "1369\n",
      "1444\n",
      "1521\n",
      "1600\n",
      "1681\n",
      "1764\n",
      "1849\n",
      "1936\n",
      "2025\n",
      "2116\n",
      "2209\n",
      "2304\n",
      "2401\n",
      "2500\n",
      "2601\n",
      "2704\n",
      "2809\n",
      "2916\n",
      "3025\n",
      "3136\n",
      "3249\n",
      "3364\n",
      "3481\n",
      "3600\n",
      "3721\n",
      "3844\n",
      "3969\n",
      "4096\n",
      "4225\n",
      "4356\n",
      "4489\n",
      "4624\n",
      "4761\n",
      "4900\n",
      "5041\n",
      "5184\n",
      "5329\n",
      "5476\n",
      "5625\n",
      "5776\n",
      "5929\n",
      "6084\n",
      "6241\n",
      "6400\n",
      "6561\n",
      "6724\n",
      "6889\n",
      "7056\n",
      "7225\n",
      "7396\n",
      "7569\n",
      "7744\n",
      "7921\n",
      "8100\n",
      "8281\n",
      "8464\n",
      "8649\n",
      "8836\n",
      "9025\n",
      "9216\n",
      "9409\n",
      "9604\n",
      "9801\n"
     ]
    }
   ],
   "source": [
    "for result in pool.map(f, range(100)):\n",
    "    print(result)"
   ]
  },
  {
   "cell_type": "code",
   "execution_count": 7,
   "id": "2e15f853-62ba-4ef7-8e0f-82bd74fc428c",
   "metadata": {},
   "outputs": [
    {
     "data": {
      "text/plain": [
       "['DISTRIBUTED_COMPUTE_OPERATOR_WEBHOOK_SERVER_PORT_443_TCP_PORT',\n",
       " 'LC_ALL',\n",
       " 'MAX_RETRIES',\n",
       " 'RUN_60AC59A4B399CB09BD8377F1_PORT_9000_TCP_PROTO',\n",
       " 'DOMINO_GROUP_ID',\n",
       " 'PYTHON_VER',\n",
       " 'RUN_60AC592EB399CB09BD8377E0_PORT_80_TCP',\n",
       " 'LANG',\n",
       " 'RUN_60AC59A4B399CB09BD8377F1_PORT_80_TCP',\n",
       " 'RUN_60AC592EB399CB09BD8377E0_SERVICE_PORT_EXECUTOR',\n",
       " 'DISTRIBUTED_COMPUTE_OPERATOR_WEBHOOK_SERVER_PORT_443_TCP',\n",
       " 'HOSTNAME',\n",
       " 'OLDPWD',\n",
       " 'RUN_60AC592EB399CB09BD8377E0_PORT_80_TCP_ADDR',\n",
       " 'DOMINO_RUN_NUMBER',\n",
       " 'DOMINO_RUN_ID',\n",
       " 'DOMINO_PROJECT_OWNER',\n",
       " 'JAVA_HOME',\n",
       " 'RUN_60AC592EB399CB09BD8377E0_PORT_80_TCP_PROTO',\n",
       " 'CONDA_DIR',\n",
       " 'RUN_60AC59A4B399CB09BD8377F1_PORT_9000_TCP_PORT',\n",
       " 'RUN_60AC592EB399CB09BD8377E0_PORT_9000_TCP',\n",
       " 'RUN_60AC59A4B399CB09BD8377F1_PORT_9000_TCP_ADDR',\n",
       " 'PYTHONIOENCODING',\n",
       " 'KUBERNETES_PORT_443_TCP_PROTO',\n",
       " 'KUBERNETES_PORT_443_TCP_ADDR',\n",
       " 'DISTRIBUTED_COMPUTE_OPERATOR_WEBHOOK_SERVER_SERVICE_PORT',\n",
       " 'DOMINO_USER_ID',\n",
       " 'USER',\n",
       " 'DOMINO_NODE_IP',\n",
       " 'CLEANUP_COMMAND',\n",
       " 'JOBLIB_TEMP_FOLDER',\n",
       " 'RUN_60AC592EB399CB09BD8377E0_PORT',\n",
       " 'KUBERNETES_PORT',\n",
       " 'DOMINO_STARTING_USERNAME',\n",
       " 'DOMINO_HARDWARE_TIER_ID',\n",
       " 'PWD',\n",
       " 'DOMINO_WORKING_DIR',\n",
       " 'HOME',\n",
       " 'MINICONDA_MD5',\n",
       " 'RUN_60AC592EB399CB09BD8377E0_SERVICE_PORT_HTTP',\n",
       " 'DISTRIBUTED_COMPUTE_OPERATOR_WEBHOOK_SERVER_SERVICE_HOST',\n",
       " 'DOMINO_API_HOST',\n",
       " 'RUN_60AC592EB399CB09BD8377E0_PORT_9000_TCP_ADDR',\n",
       " 'RUN_60AC592EB399CB09BD8377E0_PORT_80_TCP_PORT',\n",
       " 'KUBERNETES_SERVICE_PORT_HTTPS',\n",
       " 'DEBIAN_FRONTEND',\n",
       " 'KUBERNETES_PORT_443_TCP_PORT',\n",
       " 'RUN_60AC59A4B399CB09BD8377F1_SERVICE_PORT_HTTP',\n",
       " 'DOMINO_USER_API_KEY',\n",
       " 'RUN_60AC592EB399CB09BD8377E0_PORT_9000_TCP_PORT',\n",
       " 'RUN_60AC59A4B399CB09BD8377F1_PORT_80_TCP_PORT',\n",
       " 'DOMINO_NODE_NAME',\n",
       " 'RUN_60AC59A4B399CB09BD8377F1_SERVICE_PORT',\n",
       " 'KUBERNETES_PORT_443_TCP',\n",
       " 'MAIL',\n",
       " 'RUN_60AC59A4B399CB09BD8377F1_PORT',\n",
       " 'RUN_60AC59A4B399CB09BD8377F1_PORT_80_TCP_PROTO',\n",
       " 'SHELL',\n",
       " 'RUN_60AC59A4B399CB09BD8377F1_PORT_9000_TCP',\n",
       " 'DOMINO_TOKEN_FILE',\n",
       " 'RUN_60AC592EB399CB09BD8377E0_PORT_9000_TCP_PROTO',\n",
       " 'RETRY_DELAY',\n",
       " 'SHLVL',\n",
       " 'DISTRIBUTED_COMPUTE_OPERATOR_WEBHOOK_SERVER_PORT_443_TCP_PROTO',\n",
       " 'DISTRIBUTED_COMPUTE_OPERATOR_WEBHOOK_SERVER_PORT_443_TCP_ADDR',\n",
       " 'RUN_60AC592EB399CB09BD8377E0_SERVICE_PORT',\n",
       " 'KUBERNETES_SERVICE_PORT',\n",
       " 'RUN_60AC59A4B399CB09BD8377F1_PORT_80_TCP_ADDR',\n",
       " 'RUN_60AC59A4B399CB09BD8377F1_SERVICE_PORT_EXECUTOR',\n",
       " 'LOGNAME',\n",
       " 'DISTRIBUTED_COMPUTE_OPERATOR_WEBHOOK_SERVER_PORT',\n",
       " 'PATH',\n",
       " 'DOMINO_USER_HOST',\n",
       " 'KUBERNETES_SERVICE_HOST',\n",
       " 'RUN_60AC592EB399CB09BD8377E0_SERVICE_HOST',\n",
       " 'RUN_60AC59A4B399CB09BD8377F1_SERVICE_HOST',\n",
       " 'MINICONDA_VERSION',\n",
       " 'DOMINO_USER_NAME',\n",
       " 'DOMINO_PROJECT_NAME',\n",
       " '_',\n",
       " 'JPY_PARENT_PID',\n",
       " 'TERM',\n",
       " 'CLICOLOR',\n",
       " 'PAGER',\n",
       " 'GIT_PAGER',\n",
       " 'MPLBACKEND',\n",
       " 'OMP_NUM_THREADS']"
      ]
     },
     "execution_count": 7,
     "metadata": {},
     "output_type": "execute_result"
    }
   ],
   "source": [
    "list(os.environ.keys())"
   ]
  },
  {
   "cell_type": "code",
   "execution_count": null,
   "id": "f70e595b-1630-41a9-8c70-bbec74814956",
   "metadata": {},
   "outputs": [],
   "source": []
  }
 ],
 "metadata": {
  "kernelspec": {
   "display_name": "Python 3",
   "language": "python",
   "name": "python3"
  },
  "language_info": {
   "codemirror_mode": {
    "name": "ipython",
    "version": 3
   },
   "file_extension": ".py",
   "mimetype": "text/x-python",
   "name": "python",
   "nbconvert_exporter": "python",
   "pygments_lexer": "ipython3",
   "version": "3.8.3"
  }
 },
 "nbformat": 4,
 "nbformat_minor": 5
}
