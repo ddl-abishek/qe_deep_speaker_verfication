{
 "cells": [
  {
   "cell_type": "code",
   "execution_count": 2,
   "id": "c80441f0-8b4f-4970-9077-402599fad12c",
   "metadata": {},
   "outputs": [],
   "source": [
    "import os"
   ]
  },
  {
   "cell_type": "code",
   "execution_count": 11,
   "id": "687dca90-78c4-4093-9a26-70af8f88bbb6",
   "metadata": {},
   "outputs": [],
   "source": [
    "environ_variables = list(os.environ.keys())"
   ]
  },
  {
   "cell_type": "code",
   "execution_count": 14,
   "id": "4e803c2f-f2f1-4360-8a4c-28a030ea7a42",
   "metadata": {},
   "outputs": [],
   "source": [
    "environ_variables.sort()"
   ]
  },
  {
   "cell_type": "code",
   "execution_count": 15,
   "id": "a38ea950-126b-4e55-b7d5-1d098b50190d",
   "metadata": {},
   "outputs": [
    {
     "data": {
      "text/plain": [
       "['CLEANUP_COMMAND',\n",
       " 'CLICOLOR',\n",
       " 'CONDA_DIR',\n",
       " 'DEBIAN_FRONTEND',\n",
       " 'DISTRIBUTED_COMPUTE_OPERATOR_WEBHOOK_SERVER_PORT',\n",
       " 'DISTRIBUTED_COMPUTE_OPERATOR_WEBHOOK_SERVER_PORT_443_TCP',\n",
       " 'DISTRIBUTED_COMPUTE_OPERATOR_WEBHOOK_SERVER_PORT_443_TCP_ADDR',\n",
       " 'DISTRIBUTED_COMPUTE_OPERATOR_WEBHOOK_SERVER_PORT_443_TCP_PORT',\n",
       " 'DISTRIBUTED_COMPUTE_OPERATOR_WEBHOOK_SERVER_PORT_443_TCP_PROTO',\n",
       " 'DISTRIBUTED_COMPUTE_OPERATOR_WEBHOOK_SERVER_SERVICE_HOST',\n",
       " 'DISTRIBUTED_COMPUTE_OPERATOR_WEBHOOK_SERVER_SERVICE_PORT',\n",
       " 'DOMINO_API_HOST',\n",
       " 'DOMINO_GROUP_ID',\n",
       " 'DOMINO_HARDWARE_TIER_ID',\n",
       " 'DOMINO_NODE_IP',\n",
       " 'DOMINO_NODE_NAME',\n",
       " 'DOMINO_PROJECT_NAME',\n",
       " 'DOMINO_PROJECT_OWNER',\n",
       " 'DOMINO_RUN_ID',\n",
       " 'DOMINO_RUN_NUMBER',\n",
       " 'DOMINO_STARTING_USERNAME',\n",
       " 'DOMINO_TOKEN_FILE',\n",
       " 'DOMINO_USER_API_KEY',\n",
       " 'DOMINO_USER_HOST',\n",
       " 'DOMINO_USER_ID',\n",
       " 'DOMINO_USER_NAME',\n",
       " 'DOMINO_WORKING_DIR',\n",
       " 'GIT_PAGER',\n",
       " 'HOME',\n",
       " 'HOSTNAME',\n",
       " 'JAVA_HOME',\n",
       " 'JOBLIB_TEMP_FOLDER',\n",
       " 'JPY_PARENT_PID',\n",
       " 'KUBERNETES_PORT',\n",
       " 'KUBERNETES_PORT_443_TCP',\n",
       " 'KUBERNETES_PORT_443_TCP_ADDR',\n",
       " 'KUBERNETES_PORT_443_TCP_PORT',\n",
       " 'KUBERNETES_PORT_443_TCP_PROTO',\n",
       " 'KUBERNETES_SERVICE_HOST',\n",
       " 'KUBERNETES_SERVICE_PORT',\n",
       " 'KUBERNETES_SERVICE_PORT_HTTPS',\n",
       " 'LANG',\n",
       " 'LC_ALL',\n",
       " 'LOGNAME',\n",
       " 'MAIL',\n",
       " 'MAX_RETRIES',\n",
       " 'MINICONDA_MD5',\n",
       " 'MINICONDA_VERSION',\n",
       " 'MPLBACKEND',\n",
       " 'NVIDIA_VISIBLE_DEVICES',\n",
       " 'OLDPWD',\n",
       " 'PAGER',\n",
       " 'PATH',\n",
       " 'PWD',\n",
       " 'PYTHONIOENCODING',\n",
       " 'PYTHON_VER',\n",
       " 'RETRY_DELAY',\n",
       " 'RUN_60B7BA86B4ADA809C408D569_PORT',\n",
       " 'RUN_60B7BA86B4ADA809C408D569_PORT_80_TCP',\n",
       " 'RUN_60B7BA86B4ADA809C408D569_PORT_80_TCP_ADDR',\n",
       " 'RUN_60B7BA86B4ADA809C408D569_PORT_80_TCP_PORT',\n",
       " 'RUN_60B7BA86B4ADA809C408D569_PORT_80_TCP_PROTO',\n",
       " 'RUN_60B7BA86B4ADA809C408D569_PORT_9000_TCP',\n",
       " 'RUN_60B7BA86B4ADA809C408D569_PORT_9000_TCP_ADDR',\n",
       " 'RUN_60B7BA86B4ADA809C408D569_PORT_9000_TCP_PORT',\n",
       " 'RUN_60B7BA86B4ADA809C408D569_PORT_9000_TCP_PROTO',\n",
       " 'RUN_60B7BA86B4ADA809C408D569_SERVICE_HOST',\n",
       " 'RUN_60B7BA86B4ADA809C408D569_SERVICE_PORT',\n",
       " 'RUN_60B7BA86B4ADA809C408D569_SERVICE_PORT_EXECUTOR',\n",
       " 'RUN_60B7BA86B4ADA809C408D569_SERVICE_PORT_HTTP',\n",
       " 'RUN_60B7CE64B4ADA809C408D609_PORT',\n",
       " 'RUN_60B7CE64B4ADA809C408D609_PORT_80_TCP',\n",
       " 'RUN_60B7CE64B4ADA809C408D609_PORT_80_TCP_ADDR',\n",
       " 'RUN_60B7CE64B4ADA809C408D609_PORT_80_TCP_PORT',\n",
       " 'RUN_60B7CE64B4ADA809C408D609_PORT_80_TCP_PROTO',\n",
       " 'RUN_60B7CE64B4ADA809C408D609_PORT_9000_TCP',\n",
       " 'RUN_60B7CE64B4ADA809C408D609_PORT_9000_TCP_ADDR',\n",
       " 'RUN_60B7CE64B4ADA809C408D609_PORT_9000_TCP_PORT',\n",
       " 'RUN_60B7CE64B4ADA809C408D609_PORT_9000_TCP_PROTO',\n",
       " 'RUN_60B7CE64B4ADA809C408D609_SERVICE_HOST',\n",
       " 'RUN_60B7CE64B4ADA809C408D609_SERVICE_PORT',\n",
       " 'RUN_60B7CE64B4ADA809C408D609_SERVICE_PORT_EXECUTOR',\n",
       " 'RUN_60B7CE64B4ADA809C408D609_SERVICE_PORT_HTTP',\n",
       " 'SHELL',\n",
       " 'SHLVL',\n",
       " 'TERM',\n",
       " 'USER',\n",
       " '_']"
      ]
     },
     "execution_count": 15,
     "metadata": {},
     "output_type": "execute_result"
    }
   ],
   "source": [
    "environ_variables"
   ]
  },
  {
   "cell_type": "code",
   "execution_count": 18,
   "id": "2be0f8e1-e1fe-4eea-a097-f43abb6964aa",
   "metadata": {},
   "outputs": [
    {
     "data": {
      "text/plain": [
       "'qe_deep_speaker_verification'"
      ]
     },
     "execution_count": 18,
     "metadata": {},
     "output_type": "execute_result"
    }
   ],
   "source": [
    "os.environ['DOMINO_PROJECT_NAME']"
   ]
  }
 ],
 "metadata": {
  "kernelspec": {
   "display_name": "Python 3",
   "language": "python",
   "name": "python3"
  },
  "language_info": {
   "codemirror_mode": {
    "name": "ipython",
    "version": 3
   },
   "file_extension": ".py",
   "mimetype": "text/x-python",
   "name": "python",
   "nbconvert_exporter": "python",
   "pygments_lexer": "ipython3",
   "version": "3.8.3"
  }
 },
 "nbformat": 4,
 "nbformat_minor": 5
}
